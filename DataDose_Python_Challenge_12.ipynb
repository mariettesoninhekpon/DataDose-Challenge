{
  "nbformat": 4,
  "nbformat_minor": 0,
  "metadata": {
    "colab": {
      "provenance": [],
      "authorship_tag": "ABX9TyPP6H5Hm88/jpLfx0HEFds+",
      "include_colab_link": true
    },
    "kernelspec": {
      "name": "python3",
      "display_name": "Python 3"
    },
    "language_info": {
      "name": "python"
    }
  },
  "cells": [
    {
      "cell_type": "markdown",
      "metadata": {
        "id": "view-in-github",
        "colab_type": "text"
      },
      "source": [
        "<a href=\"https://colab.research.google.com/github/mariettesoninhekpon/DataDose-Challenge/blob/main/DataDose_Python_Challenge_12.ipynb\" target=\"_parent\"><img src=\"https://colab.research.google.com/assets/colab-badge.svg\" alt=\"Open In Colab\"/></a>"
      ]
    },
    {
      "cell_type": "markdown",
      "source": [
        "Task 1a: Tuples Manipulation"
      ],
      "metadata": {
        "id": "6YArbLxzIbGO"
      }
    },
    {
      "cell_type": "code",
      "source": [
        "sales_data = [('apple', 50), ('banana', 30), ('orange', 40), ('grapes', 25)]"
      ],
      "metadata": {
        "id": "OlrnY8hvnf1X"
      },
      "execution_count": null,
      "outputs": []
    },
    {
      "cell_type": "code",
      "source": [
        "# Create 30 tuples representing the sales made for different items.\n",
        "('mango', 20), ('pineapple', 15), ('guava', 35), ('lemon', 60), ('watermelon', 5),\n",
        "('pomegranate', 30), ('lime', 60), ('muskmelon', 36), ('kiwi', 40), ('blackberry', 45),\n",
        "('cocoa', 55), ('grapefruit', 10), ('cranberry', 13), ('jackfruit', 23), ('apricot', 37),\n",
        "('blueberry', 31), ('sapodilla', 53), ('dates', 34), ('sugarcane', 46), ('pomelo', 29),\n",
        "('tangerine', 61), ('cherry', 59), ('mandarin', 48), ('coconut', 22), ('pear', 42),\n",
        "('avocado', 57), ('papaya', 14), ('tamarind', 26), ('peach', 25), ('strawberry', 56)"
      ],
      "metadata": {
        "id": "hwb1Zs3q7pRI"
      },
      "execution_count": null,
      "outputs": []
    },
    {
      "cell_type": "code",
      "source": [
        "#Append these new tuples to the existing sales_data\n",
        "\n",
        "sales_data.append(('mango', 20))\n",
        "print(sales_data)\n"
      ],
      "metadata": {
        "id": "u67c5JklNX8G",
        "colab": {
          "base_uri": "https://localhost:8080/"
        },
        "outputId": "692da90e-dd14-4b0b-eff0-bf1c76bf57ca"
      },
      "execution_count": null,
      "outputs": [
        {
          "output_type": "stream",
          "name": "stdout",
          "text": [
            "[('apple', 50), ('banana', 30), ('orange', 40), ('grapes', 25), ('mango', 20)]\n"
          ]
        }
      ]
    },
    {
      "cell_type": "code",
      "source": [
        "sales_data.append(('pineapple', 15))\n",
        "print(sales_data)\n"
      ],
      "metadata": {
        "id": "KyZSfTFcNnil",
        "colab": {
          "base_uri": "https://localhost:8080/"
        },
        "outputId": "914e0c52-2f87-4421-89cd-ef52df565c7b"
      },
      "execution_count": null,
      "outputs": [
        {
          "output_type": "stream",
          "name": "stdout",
          "text": [
            "[('apple', 50), ('banana', 30), ('orange', 40), ('grapes', 25), ('mango', 20), ('pineapple', 15)]\n"
          ]
        }
      ]
    },
    {
      "cell_type": "code",
      "source": [
        "sales_data.append(('guava', 35))\n",
        "print(sales_data)"
      ],
      "metadata": {
        "colab": {
          "base_uri": "https://localhost:8080/"
        },
        "id": "saoYNP_ToYcW",
        "outputId": "a93b5636-14c2-4f1f-a70f-ff055f315dd5"
      },
      "execution_count": null,
      "outputs": [
        {
          "output_type": "stream",
          "name": "stdout",
          "text": [
            "[('apple', 50), ('banana', 30), ('orange', 40), ('grapes', 25), ('mango', 20), ('pineapple', 15), ('guava', 35)]\n"
          ]
        }
      ]
    },
    {
      "cell_type": "code",
      "source": [
        "sales_data.append(('lemon', 60))\n",
        "print(sales_data)"
      ],
      "metadata": {
        "colab": {
          "base_uri": "https://localhost:8080/"
        },
        "id": "6s8_qMy8oULg",
        "outputId": "e34512d3-73a6-4bd0-cad1-7bbe3df36b4d"
      },
      "execution_count": null,
      "outputs": [
        {
          "output_type": "stream",
          "name": "stdout",
          "text": [
            "[('apple', 50), ('banana', 30), ('orange', 40), ('grapes', 25), ('mango', 20), ('pineapple', 15), ('guava', 35), ('lemon', 60)]\n"
          ]
        }
      ]
    },
    {
      "cell_type": "code",
      "source": [
        "sales_data.append(('watermelon', 5))\n",
        "print(sales_data)"
      ],
      "metadata": {
        "colab": {
          "base_uri": "https://localhost:8080/"
        },
        "id": "F7KbBW9HoxhR",
        "outputId": "1f10a744-70ac-4275-db69-833fa4a08019"
      },
      "execution_count": null,
      "outputs": [
        {
          "output_type": "stream",
          "name": "stdout",
          "text": [
            "[('apple', 50), ('banana', 30), ('orange', 40), ('grapes', 25), ('mango', 20), ('pineapple', 15), ('guava', 35), ('lemon', 60), ('watermelon', 5)]\n"
          ]
        }
      ]
    },
    {
      "cell_type": "code",
      "source": [
        "sales_data.append(('pomegranate', 30))\n",
        "print(sales_data)"
      ],
      "metadata": {
        "colab": {
          "base_uri": "https://localhost:8080/"
        },
        "id": "_64CGNIso0qN",
        "outputId": "9e7aa956-ad2a-4f20-b074-e1baeafddb9e"
      },
      "execution_count": null,
      "outputs": [
        {
          "output_type": "stream",
          "name": "stdout",
          "text": [
            "[('apple', 50), ('banana', 30), ('orange', 40), ('grapes', 25), ('mango', 20), ('pineapple', 15), ('guava', 35), ('lemon', 60), ('watermelon', 5), ('pomegranate', 30)]\n"
          ]
        }
      ]
    },
    {
      "cell_type": "code",
      "source": [
        "sales_data.append(('lime', 60))\n",
        "print(sales_data)\n"
      ],
      "metadata": {
        "colab": {
          "base_uri": "https://localhost:8080/"
        },
        "id": "s4FAsmCJo3mp",
        "outputId": "d283dbbf-ef9d-40c9-a58d-14a74374fe88"
      },
      "execution_count": null,
      "outputs": [
        {
          "output_type": "stream",
          "name": "stdout",
          "text": [
            "[('apple', 50), ('banana', 30), ('orange', 40), ('grapes', 25), ('mango', 20), ('pineapple', 15), ('guava', 35), ('lemon', 60), ('watermelon', 5), ('pomegranate', 30), ('lime', 60)]\n"
          ]
        }
      ]
    },
    {
      "cell_type": "code",
      "source": [
        "sales_data.append(('muskmelon', 36))\n",
        "print(sales_data)"
      ],
      "metadata": {
        "colab": {
          "base_uri": "https://localhost:8080/"
        },
        "id": "U44cz2VFo6n-",
        "outputId": "f330517f-c237-4f48-9bee-c63c3fdb45de"
      },
      "execution_count": null,
      "outputs": [
        {
          "output_type": "stream",
          "name": "stdout",
          "text": [
            "[('apple', 50), ('banana', 30), ('orange', 40), ('grapes', 25), ('mango', 20), ('pineapple', 15), ('guava', 35), ('lemon', 60), ('watermelon', 5), ('pomegranate', 30), ('lime', 60), ('muskmelon', 36)]\n"
          ]
        }
      ]
    },
    {
      "cell_type": "code",
      "source": [
        "sales_data.append(('kiwi', 40))\n",
        "print(sales_data)"
      ],
      "metadata": {
        "colab": {
          "base_uri": "https://localhost:8080/"
        },
        "id": "xui-kr9ppCKh",
        "outputId": "3a746792-8cf8-4918-d8c3-e400e221ba26"
      },
      "execution_count": null,
      "outputs": [
        {
          "output_type": "stream",
          "name": "stdout",
          "text": [
            "[('apple', 50), ('banana', 30), ('orange', 40), ('grapes', 25), ('mango', 20), ('pineapple', 15), ('guava', 35), ('lemon', 60), ('watermelon', 5), ('pomegranate', 30), ('lime', 60), ('muskmelon', 36), ('kiwi', 40)]\n"
          ]
        }
      ]
    },
    {
      "cell_type": "code",
      "source": [
        "sales_data.append(('blackberry', 45))\n",
        "print(sales_data)"
      ],
      "metadata": {
        "colab": {
          "base_uri": "https://localhost:8080/"
        },
        "id": "NVab8zOTpFHy",
        "outputId": "161f8ef2-97af-41e0-842b-296876e54b2b"
      },
      "execution_count": null,
      "outputs": [
        {
          "output_type": "stream",
          "name": "stdout",
          "text": [
            "[('apple', 50), ('banana', 30), ('orange', 40), ('grapes', 25), ('mango', 20), ('pineapple', 15), ('guava', 35), ('lemon', 60), ('watermelon', 5), ('pomegranate', 30), ('lime', 60), ('muskmelon', 36), ('kiwi', 40), ('blackberry', 45)]\n"
          ]
        }
      ]
    },
    {
      "cell_type": "code",
      "source": [
        "sales_data.append(('cocoa', 55))\n",
        "print(sales_data)"
      ],
      "metadata": {
        "colab": {
          "base_uri": "https://localhost:8080/"
        },
        "id": "wjLyd8frpGcL",
        "outputId": "d09cbcab-be7f-4211-eb55-ca98a926e65f"
      },
      "execution_count": null,
      "outputs": [
        {
          "output_type": "stream",
          "name": "stdout",
          "text": [
            "[('apple', 50), ('banana', 30), ('orange', 40), ('grapes', 25), ('mango', 20), ('pineapple', 15), ('guava', 35), ('lemon', 60), ('watermelon', 5), ('pomegranate', 30), ('lime', 60), ('muskmelon', 36), ('kiwi', 40), ('blackberry', 45), ('cocoa', 55)]\n"
          ]
        }
      ]
    },
    {
      "cell_type": "code",
      "source": [
        "sales_data.append(('grapefruit', 10))\n",
        "print(sales_data)"
      ],
      "metadata": {
        "colab": {
          "base_uri": "https://localhost:8080/"
        },
        "id": "efElBjHSpU9M",
        "outputId": "8bbbb13d-88d5-47f3-b166-211c2d8c5f8d"
      },
      "execution_count": null,
      "outputs": [
        {
          "output_type": "stream",
          "name": "stdout",
          "text": [
            "[('apple', 50), ('banana', 30), ('orange', 40), ('grapes', 25), ('mango', 20), ('pineapple', 15), ('guava', 35), ('lemon', 60), ('watermelon', 5), ('pomegranate', 30), ('lime', 60), ('muskmelon', 36), ('kiwi', 40), ('blackberry', 45), ('cocoa', 55), ('grapefruit', 10)]\n"
          ]
        }
      ]
    },
    {
      "cell_type": "code",
      "source": [
        "sales_data.append(('cranberry', 13))\n",
        "print(sales_data)"
      ],
      "metadata": {
        "colab": {
          "base_uri": "https://localhost:8080/"
        },
        "id": "R4bcAhblp2cp",
        "outputId": "a25273a5-0bbe-455d-98ce-1f44d6c627b7"
      },
      "execution_count": null,
      "outputs": [
        {
          "output_type": "stream",
          "name": "stdout",
          "text": [
            "[('apple', 50), ('banana', 30), ('orange', 40), ('grapes', 25), ('mango', 20), ('pineapple', 15), ('guava', 35), ('lemon', 60), ('watermelon', 5), ('pomegranate', 30), ('lime', 60), ('muskmelon', 36), ('kiwi', 40), ('blackberry', 45), ('cocoa', 55), ('grapefruit', 10), ('cranberry', 13)]\n"
          ]
        }
      ]
    },
    {
      "cell_type": "code",
      "source": [
        "sales_data.append(('jackfruit', 23))\n",
        "print(sales_data)"
      ],
      "metadata": {
        "colab": {
          "base_uri": "https://localhost:8080/"
        },
        "id": "D2RK4sZ_p6oi",
        "outputId": "eaecc6fa-4776-41d2-b87b-ca13f0a2c62a"
      },
      "execution_count": null,
      "outputs": [
        {
          "output_type": "stream",
          "name": "stdout",
          "text": [
            "[('apple', 50), ('banana', 30), ('orange', 40), ('grapes', 25), ('mango', 20), ('pineapple', 15), ('guava', 35), ('lemon', 60), ('watermelon', 5), ('pomegranate', 30), ('lime', 60), ('muskmelon', 36), ('kiwi', 40), ('blackberry', 45), ('cocoa', 55), ('grapefruit', 10), ('cranberry', 13), ('jackfruit', 23)]\n"
          ]
        }
      ]
    },
    {
      "cell_type": "code",
      "source": [
        "sales_data.append(('apricot', 37))\n",
        "print(sales_data)"
      ],
      "metadata": {
        "colab": {
          "base_uri": "https://localhost:8080/"
        },
        "id": "aWVoaX3Dp9vo",
        "outputId": "d829e703-9589-4f9c-b217-e2e04e0ce87b"
      },
      "execution_count": null,
      "outputs": [
        {
          "output_type": "stream",
          "name": "stdout",
          "text": [
            "[('apple', 50), ('banana', 30), ('orange', 40), ('grapes', 25), ('mango', 20), ('pineapple', 15), ('guava', 35), ('lemon', 60), ('watermelon', 5), ('pomegranate', 30), ('lime', 60), ('muskmelon', 36), ('kiwi', 40), ('blackberry', 45), ('cocoa', 55), ('grapefruit', 10), ('cranberry', 13), ('jackfruit', 23), ('apricot', 37)]\n"
          ]
        }
      ]
    },
    {
      "cell_type": "code",
      "source": [
        "sales_data.append(('blueberry', 31))\n",
        "print(sales_data)"
      ],
      "metadata": {
        "colab": {
          "base_uri": "https://localhost:8080/"
        },
        "id": "pKWzEBYCqBAD",
        "outputId": "768155bd-bfc0-4c43-edde-26fc56c13367"
      },
      "execution_count": null,
      "outputs": [
        {
          "output_type": "stream",
          "name": "stdout",
          "text": [
            "[('apple', 50), ('banana', 30), ('orange', 40), ('grapes', 25), ('mango', 20), ('pineapple', 15), ('guava', 35), ('lemon', 60), ('watermelon', 5), ('pomegranate', 30), ('lime', 60), ('muskmelon', 36), ('kiwi', 40), ('blackberry', 45), ('cocoa', 55), ('grapefruit', 10), ('cranberry', 13), ('jackfruit', 23), ('apricot', 37), ('blueberry', 31)]\n"
          ]
        }
      ]
    },
    {
      "cell_type": "code",
      "source": [
        "sales_data.append(('sapodilla', 53))\n",
        "print(sales_data)"
      ],
      "metadata": {
        "colab": {
          "base_uri": "https://localhost:8080/"
        },
        "id": "6TYXr4OZqGWj",
        "outputId": "a28fe35c-6b6d-4285-b1d4-57b36a8dc5ba"
      },
      "execution_count": null,
      "outputs": [
        {
          "output_type": "stream",
          "name": "stdout",
          "text": [
            "[('apple', 50), ('banana', 30), ('orange', 40), ('grapes', 25), ('mango', 20), ('pineapple', 15), ('guava', 35), ('lemon', 60), ('watermelon', 5), ('pomegranate', 30), ('lime', 60), ('muskmelon', 36), ('kiwi', 40), ('blackberry', 45), ('cocoa', 55), ('grapefruit', 10), ('cranberry', 13), ('jackfruit', 23), ('apricot', 37), ('blueberry', 31), ('sapodilla', 53)]\n"
          ]
        }
      ]
    },
    {
      "cell_type": "code",
      "source": [
        "sales_data.append(('dates', 34))\n",
        "print(sales_data)"
      ],
      "metadata": {
        "colab": {
          "base_uri": "https://localhost:8080/"
        },
        "id": "wXB3AGDnsptP",
        "outputId": "3800e1a0-667b-4b92-dc02-3a35ab299be0"
      },
      "execution_count": null,
      "outputs": [
        {
          "output_type": "stream",
          "name": "stdout",
          "text": [
            "[('apple', 50), ('banana', 30), ('orange', 40), ('grapes', 25), ('mango', 20), ('pineapple', 15), ('guava', 35), ('lemon', 60), ('watermelon', 5), ('pomegranate', 30), ('lime', 60), ('muskmelon', 36), ('kiwi', 40), ('blackberry', 45), ('cocoa', 55), ('grapefruit', 10), ('cranberry', 13), ('jackfruit', 23), ('apricot', 37), ('blueberry', 31), ('sapodilla', 53), ('dates', 34)]\n"
          ]
        }
      ]
    },
    {
      "cell_type": "code",
      "source": [
        "sales_data.append( ('sugarcane', 46))\n",
        "print(sales_data)"
      ],
      "metadata": {
        "colab": {
          "base_uri": "https://localhost:8080/"
        },
        "id": "lTiIwkPDssSG",
        "outputId": "2d721d47-d417-4a8b-9ef4-a852bde5e6a3"
      },
      "execution_count": null,
      "outputs": [
        {
          "output_type": "stream",
          "name": "stdout",
          "text": [
            "[('apple', 50), ('banana', 30), ('orange', 40), ('grapes', 25), ('mango', 20), ('pineapple', 15), ('guava', 35), ('lemon', 60), ('watermelon', 5), ('pomegranate', 30), ('lime', 60), ('muskmelon', 36), ('kiwi', 40), ('blackberry', 45), ('cocoa', 55), ('grapefruit', 10), ('cranberry', 13), ('jackfruit', 23), ('apricot', 37), ('blueberry', 31), ('sapodilla', 53), ('dates', 34), ('sugarcane', 46)]\n"
          ]
        }
      ]
    },
    {
      "cell_type": "code",
      "source": [
        "sales_data.append(('pomelo', 29))\n",
        "print(sales_data)"
      ],
      "metadata": {
        "colab": {
          "base_uri": "https://localhost:8080/"
        },
        "id": "qI6_UR16swTU",
        "outputId": "deb69af9-3740-43bd-8f1c-77bce895ce03"
      },
      "execution_count": null,
      "outputs": [
        {
          "output_type": "stream",
          "name": "stdout",
          "text": [
            "[('apple', 50), ('banana', 30), ('orange', 40), ('grapes', 25), ('mango', 20), ('pineapple', 15), ('guava', 35), ('lemon', 60), ('watermelon', 5), ('pomegranate', 30), ('lime', 60), ('muskmelon', 36), ('kiwi', 40), ('blackberry', 45), ('cocoa', 55), ('grapefruit', 10), ('cranberry', 13), ('jackfruit', 23), ('apricot', 37), ('blueberry', 31), ('sapodilla', 53), ('dates', 34), ('sugarcane', 46), ('pomelo', 29)]\n"
          ]
        }
      ]
    },
    {
      "cell_type": "code",
      "source": [
        "sales_data.append(('tangerine', 61))\n",
        "print(sales_data)"
      ],
      "metadata": {
        "colab": {
          "base_uri": "https://localhost:8080/"
        },
        "id": "Hz5UWdpMs4Zm",
        "outputId": "80fcac8a-549a-4af1-bd2d-4513836f8e9f"
      },
      "execution_count": null,
      "outputs": [
        {
          "output_type": "stream",
          "name": "stdout",
          "text": [
            "[('apple', 50), ('banana', 30), ('orange', 40), ('grapes', 25), ('mango', 20), ('pineapple', 15), ('guava', 35), ('lemon', 60), ('watermelon', 5), ('pomegranate', 30), ('lime', 60), ('muskmelon', 36), ('kiwi', 40), ('blackberry', 45), ('cocoa', 55), ('grapefruit', 10), ('cranberry', 13), ('jackfruit', 23), ('apricot', 37), ('blueberry', 31), ('sapodilla', 53), ('dates', 34), ('sugarcane', 46), ('pomelo', 29), ('tangerine', 61)]\n"
          ]
        }
      ]
    },
    {
      "cell_type": "code",
      "source": [
        "sales_data.append(('cherry', 59))\n",
        "print(sales_data)"
      ],
      "metadata": {
        "colab": {
          "base_uri": "https://localhost:8080/"
        },
        "id": "9qCpf6WZs653",
        "outputId": "26d38bb7-1fd0-498d-e2d9-662e3835987c"
      },
      "execution_count": null,
      "outputs": [
        {
          "output_type": "stream",
          "name": "stdout",
          "text": [
            "[('apple', 50), ('banana', 30), ('orange', 40), ('grapes', 25), ('mango', 20), ('pineapple', 15), ('guava', 35), ('lemon', 60), ('watermelon', 5), ('pomegranate', 30), ('lime', 60), ('muskmelon', 36), ('kiwi', 40), ('blackberry', 45), ('cocoa', 55), ('grapefruit', 10), ('cranberry', 13), ('jackfruit', 23), ('apricot', 37), ('blueberry', 31), ('sapodilla', 53), ('dates', 34), ('sugarcane', 46), ('pomelo', 29), ('tangerine', 61), ('cherry', 59)]\n"
          ]
        }
      ]
    },
    {
      "cell_type": "code",
      "source": [
        "sales_data.append(('mandarin', 48))\n",
        "print(sales_data)"
      ],
      "metadata": {
        "colab": {
          "base_uri": "https://localhost:8080/"
        },
        "id": "Fz13ZiFPtGud",
        "outputId": "599eb849-9478-47ef-f5e0-1f543276f382"
      },
      "execution_count": null,
      "outputs": [
        {
          "output_type": "stream",
          "name": "stdout",
          "text": [
            "[('apple', 50), ('banana', 30), ('orange', 40), ('grapes', 25), ('mango', 20), ('pineapple', 15), ('guava', 35), ('lemon', 60), ('watermelon', 5), ('pomegranate', 30), ('lime', 60), ('muskmelon', 36), ('kiwi', 40), ('blackberry', 45), ('cocoa', 55), ('grapefruit', 10), ('cranberry', 13), ('jackfruit', 23), ('apricot', 37), ('blueberry', 31), ('sapodilla', 53), ('dates', 34), ('sugarcane', 46), ('pomelo', 29), ('tangerine', 61), ('cherry', 59), ('mandarin', 48)]\n"
          ]
        }
      ]
    },
    {
      "cell_type": "code",
      "source": [
        "sales_data.append(('coconut', 22))\n",
        "print(sales_data)"
      ],
      "metadata": {
        "colab": {
          "base_uri": "https://localhost:8080/"
        },
        "id": "2RmHXOVis9M6",
        "outputId": "0bf90de5-0545-429f-b3f6-8e25f9d610c9"
      },
      "execution_count": null,
      "outputs": [
        {
          "output_type": "stream",
          "name": "stdout",
          "text": [
            "[('apple', 50), ('banana', 30), ('orange', 40), ('grapes', 25), ('mango', 20), ('pineapple', 15), ('guava', 35), ('lemon', 60), ('watermelon', 5), ('pomegranate', 30), ('lime', 60), ('muskmelon', 36), ('kiwi', 40), ('blackberry', 45), ('cocoa', 55), ('grapefruit', 10), ('cranberry', 13), ('jackfruit', 23), ('apricot', 37), ('blueberry', 31), ('sapodilla', 53), ('dates', 34), ('sugarcane', 46), ('pomelo', 29), ('tangerine', 61), ('cherry', 59), ('mandarin', 48), ('coconut', 22)]\n"
          ]
        }
      ]
    },
    {
      "cell_type": "code",
      "source": [
        "sales_data.append(('pear', 42))\n",
        "print(sales_data)"
      ],
      "metadata": {
        "colab": {
          "base_uri": "https://localhost:8080/"
        },
        "id": "9n2PX8oGtJEJ",
        "outputId": "2263bd96-9644-4401-b250-eccaae917cbb"
      },
      "execution_count": null,
      "outputs": [
        {
          "output_type": "stream",
          "name": "stdout",
          "text": [
            "[('apple', 50), ('banana', 30), ('orange', 40), ('grapes', 25), ('mango', 20), ('pineapple', 15), ('guava', 35), ('lemon', 60), ('watermelon', 5), ('pomegranate', 30), ('lime', 60), ('muskmelon', 36), ('kiwi', 40), ('blackberry', 45), ('cocoa', 55), ('grapefruit', 10), ('cranberry', 13), ('jackfruit', 23), ('apricot', 37), ('blueberry', 31), ('sapodilla', 53), ('dates', 34), ('sugarcane', 46), ('pomelo', 29), ('tangerine', 61), ('cherry', 59), ('mandarin', 48), ('coconut', 22), ('pear', 42)]\n"
          ]
        }
      ]
    },
    {
      "cell_type": "code",
      "source": [
        "sales_data.append(('avocado', 57))\n",
        "print(sales_data)"
      ],
      "metadata": {
        "colab": {
          "base_uri": "https://localhost:8080/"
        },
        "id": "aPba6I7ctMAv",
        "outputId": "e4b59ad3-1feb-41f1-a2b3-d71edc671048"
      },
      "execution_count": null,
      "outputs": [
        {
          "output_type": "stream",
          "name": "stdout",
          "text": [
            "[('apple', 50), ('banana', 30), ('orange', 40), ('grapes', 25), ('mango', 20), ('pineapple', 15), ('guava', 35), ('lemon', 60), ('watermelon', 5), ('pomegranate', 30), ('lime', 60), ('muskmelon', 36), ('kiwi', 40), ('blackberry', 45), ('cocoa', 55), ('grapefruit', 10), ('cranberry', 13), ('jackfruit', 23), ('apricot', 37), ('blueberry', 31), ('sapodilla', 53), ('dates', 34), ('sugarcane', 46), ('pomelo', 29), ('tangerine', 61), ('cherry', 59), ('mandarin', 48), ('coconut', 22), ('pear', 42), ('avocado', 57)]\n"
          ]
        }
      ]
    },
    {
      "cell_type": "code",
      "source": [
        "sales_data.append( ('papaya', 14))\n",
        "print(sales_data)"
      ],
      "metadata": {
        "colab": {
          "base_uri": "https://localhost:8080/"
        },
        "id": "2lIT7J2YtPez",
        "outputId": "63832484-4c7a-4416-e9cf-84f47a13e2ac"
      },
      "execution_count": null,
      "outputs": [
        {
          "output_type": "stream",
          "name": "stdout",
          "text": [
            "[('apple', 50), ('banana', 30), ('orange', 40), ('grapes', 25), ('mango', 20), ('pineapple', 15), ('guava', 35), ('lemon', 60), ('watermelon', 5), ('pomegranate', 30), ('lime', 60), ('muskmelon', 36), ('kiwi', 40), ('blackberry', 45), ('cocoa', 55), ('grapefruit', 10), ('cranberry', 13), ('jackfruit', 23), ('apricot', 37), ('blueberry', 31), ('sapodilla', 53), ('dates', 34), ('sugarcane', 46), ('pomelo', 29), ('tangerine', 61), ('cherry', 59), ('mandarin', 48), ('coconut', 22), ('pear', 42), ('avocado', 57), ('papaya', 14)]\n"
          ]
        }
      ]
    },
    {
      "cell_type": "code",
      "source": [
        "sales_data.append(('tamarind', 26))\n",
        "print(sales_data)"
      ],
      "metadata": {
        "colab": {
          "base_uri": "https://localhost:8080/"
        },
        "id": "VubmAmb0tSyg",
        "outputId": "a7e9d899-86af-4a47-a1f6-32afc51ac7ad"
      },
      "execution_count": null,
      "outputs": [
        {
          "output_type": "stream",
          "name": "stdout",
          "text": [
            "[('apple', 50), ('banana', 30), ('orange', 40), ('grapes', 25), ('mango', 20), ('pineapple', 15), ('guava', 35), ('lemon', 60), ('watermelon', 5), ('pomegranate', 30), ('lime', 60), ('muskmelon', 36), ('kiwi', 40), ('blackberry', 45), ('cocoa', 55), ('grapefruit', 10), ('cranberry', 13), ('jackfruit', 23), ('apricot', 37), ('blueberry', 31), ('sapodilla', 53), ('dates', 34), ('sugarcane', 46), ('pomelo', 29), ('tangerine', 61), ('cherry', 59), ('mandarin', 48), ('coconut', 22), ('pear', 42), ('avocado', 57), ('papaya', 14), ('tamarind', 26)]\n"
          ]
        }
      ]
    },
    {
      "cell_type": "code",
      "source": [
        "sales_data.append(('peach', 25))\n",
        "print(sales_data)"
      ],
      "metadata": {
        "colab": {
          "base_uri": "https://localhost:8080/"
        },
        "id": "p7ZvEe4xtVXI",
        "outputId": "ab84db41-a682-4c11-96d8-60830d34bcbe"
      },
      "execution_count": null,
      "outputs": [
        {
          "output_type": "stream",
          "name": "stdout",
          "text": [
            "[('apple', 50), ('banana', 30), ('orange', 40), ('grapes', 25), ('mango', 20), ('pineapple', 15), ('guava', 35), ('lemon', 60), ('watermelon', 5), ('pomegranate', 30), ('lime', 60), ('muskmelon', 36), ('kiwi', 40), ('blackberry', 45), ('cocoa', 55), ('grapefruit', 10), ('cranberry', 13), ('jackfruit', 23), ('apricot', 37), ('blueberry', 31), ('sapodilla', 53), ('dates', 34), ('sugarcane', 46), ('pomelo', 29), ('tangerine', 61), ('cherry', 59), ('mandarin', 48), ('coconut', 22), ('pear', 42), ('avocado', 57), ('papaya', 14), ('tamarind', 26), ('peach', 25)]\n"
          ]
        }
      ]
    },
    {
      "cell_type": "code",
      "source": [
        "sales_data.append(('strawberry', 56))\n",
        "print(sales_data)"
      ],
      "metadata": {
        "colab": {
          "base_uri": "https://localhost:8080/"
        },
        "id": "elbC0-jOtYT4",
        "outputId": "a28c67b3-c7b2-4864-ac84-eef27bf46bd7"
      },
      "execution_count": null,
      "outputs": [
        {
          "output_type": "stream",
          "name": "stdout",
          "text": [
            "[('apple', 50), ('banana', 30), ('orange', 40), ('grapes', 25), ('mango', 20), ('pineapple', 15), ('guava', 35), ('lemon', 60), ('watermelon', 5), ('pomegranate', 30), ('lime', 60), ('muskmelon', 36), ('kiwi', 40), ('blackberry', 45), ('cocoa', 55), ('grapefruit', 10), ('cranberry', 13), ('jackfruit', 23), ('apricot', 37), ('blueberry', 31), ('sapodilla', 53), ('dates', 34), ('sugarcane', 46), ('pomelo', 29), ('tangerine', 61), ('cherry', 59), ('mandarin', 48), ('coconut', 22), ('pear', 42), ('avocado', 57), ('papaya', 14), ('tamarind', 26), ('peach', 25), ('strawberry', 56)]\n"
          ]
        }
      ]
    },
    {
      "cell_type": "code",
      "source": [
        "#Print the updated sales_data\n",
        "print(sales_data)"
      ],
      "metadata": {
        "colab": {
          "base_uri": "https://localhost:8080/"
        },
        "id": "NZFcGQOCoMrG",
        "outputId": "4605b5f0-6160-4da4-8e47-3b5684a366ef"
      },
      "execution_count": null,
      "outputs": [
        {
          "output_type": "stream",
          "name": "stdout",
          "text": [
            "[('apple', 50), ('banana', 30), ('orange', 40), ('grapes', 25), ('mango', 20), ('pineapple', 15), ('guava', 35), ('lemon', 60), ('watermelon', 5), ('pomegranate', 30), ('lime', 60), ('muskmelon', 36), ('kiwi', 40), ('blackberry', 45), ('cocoa', 55), ('grapefruit', 10), ('cranberry', 13), ('jackfruit', 23), ('apricot', 37), ('blueberry', 31), ('sapodilla', 53), ('dates', 34), ('sugarcane', 46), ('pomelo', 29), ('tangerine', 61), ('cherry', 59), ('mandarin', 48), ('coconut', 22), ('pear', 42), ('avocado', 57), ('papaya', 14), ('tamarind', 26), ('peach', 25), ('strawberry', 56)]\n"
          ]
        }
      ]
    },
    {
      "cell_type": "markdown",
      "source": [
        "Task 1b: Dictionaries Creation"
      ],
      "metadata": {
        "id": "oHRbfUHJNv36"
      }
    },
    {
      "cell_type": "code",
      "source": [
        "#Convert the sales_data into a dictionary\n",
        "dataframe=dict(sales_data)\n",
        "\n",
        "print(dataframe)"
      ],
      "metadata": {
        "id": "j_kBWP4DN_DG",
        "colab": {
          "base_uri": "https://localhost:8080/"
        },
        "outputId": "a86a2dd5-f31c-487e-d74e-cd62ddd838bf"
      },
      "execution_count": null,
      "outputs": [
        {
          "output_type": "stream",
          "name": "stdout",
          "text": [
            "{'apple': 50, 'banana': 30, 'orange': 40, 'grapes': 25, 'mango': 20, 'pineapple': 15, 'guava': 35, 'lemon': 60, 'watermelon': 5, 'pomegranate': 30, 'lime': 60, 'muskmelon': 36, 'kiwi': 40, 'blackberry': 45, 'cocoa': 55, 'grapefruit': 10, 'cranberry': 13, 'jackfruit': 23, 'apricot': 37, 'blueberry': 31, 'sapodilla': 53, 'dates': 34, 'sugarcane': 46, 'pomelo': 29, 'tangerine': 61, 'cherry': 59, 'mandarin': 48, 'coconut': 22, 'pear': 42, 'avocado': 57, 'papaya': 14, 'tamarind': 26, 'peach': 25, 'strawberry': 56}\n"
          ]
        }
      ]
    },
    {
      "cell_type": "markdown",
      "source": [
        "#Data Analysis Task"
      ],
      "metadata": {
        "id": "sxQvX9MwOPjn"
      }
    },
    {
      "cell_type": "markdown",
      "source": [
        "Find the total number of items sold"
      ],
      "metadata": {
        "id": "JcWcNRlR7u78"
      }
    },
    {
      "cell_type": "code",
      "source": [
        "print(len(dataframe))"
      ],
      "metadata": {
        "id": "vZjhbihgOWB7",
        "colab": {
          "base_uri": "https://localhost:8080/"
        },
        "outputId": "3b79e2c4-2081-46a6-9a1a-e9c6515d8369"
      },
      "execution_count": null,
      "outputs": [
        {
          "output_type": "stream",
          "name": "stdout",
          "text": [
            "34\n"
          ]
        }
      ]
    },
    {
      "cell_type": "markdown",
      "source": [
        "Calculate the total sales quantity\n"
      ],
      "metadata": {
        "id": "_-VEd5137Ss7"
      }
    },
    {
      "cell_type": "code",
      "source": [
        "#First get the values of the dictionary in a list\n",
        "dataframe.values()"
      ],
      "metadata": {
        "colab": {
          "base_uri": "https://localhost:8080/"
        },
        "id": "JqRL3aD53XZZ",
        "outputId": "fc83a5c6-3ff1-44cb-f222-1f977819b2c4"
      },
      "execution_count": null,
      "outputs": [
        {
          "output_type": "execute_result",
          "data": {
            "text/plain": [
              "dict_values([50, 30, 40, 25, 20, 15, 35, 60, 5, 30, 60, 36, 40, 45, 55, 10, 13, 23, 37, 31, 53, 34, 46, 29, 61, 59, 48, 22, 42, 57, 14, 26, 25, 56])"
            ]
          },
          "metadata": {},
          "execution_count": 49
        }
      ]
    },
    {
      "cell_type": "code",
      "source": [
        "#Call the sum method to get the sum of these values\n",
        "print(sum(dataframe.values()))"
      ],
      "metadata": {
        "colab": {
          "base_uri": "https://localhost:8080/"
        },
        "id": "XVG53pwL5hzm",
        "outputId": "de82c600-3924-456b-8a32-82fd4059daf8"
      },
      "execution_count": null,
      "outputs": [
        {
          "output_type": "stream",
          "name": "stdout",
          "text": [
            "1232\n"
          ]
        }
      ]
    },
    {
      "cell_type": "markdown",
      "source": [
        "Print both the total number of items sold and the total sales quantity."
      ],
      "metadata": {
        "id": "cJNTwkoM73G4"
      }
    },
    {
      "cell_type": "code",
      "source": [
        "print(len(dataframe), sum(dataframe.values()))"
      ],
      "metadata": {
        "colab": {
          "base_uri": "https://localhost:8080/"
        },
        "id": "ire3DQUU77pf",
        "outputId": "53a05323-b708-4697-e137-b3dc5cf7ee60"
      },
      "execution_count": null,
      "outputs": [
        {
          "output_type": "stream",
          "name": "stdout",
          "text": [
            "34 1232\n"
          ]
        }
      ]
    },
    {
      "cell_type": "markdown",
      "source": [
        "#Extra Challenge:\n",
        "Sort the items in the sales dictionary by their names alphabetically.\n",
        "Print the sorted dictionary."
      ],
      "metadata": {
        "id": "GT7hdG0g8OKn"
      }
    },
    {
      "cell_type": "code",
      "source": [
        "sorted_dataframe = dict(sorted(dataframe.items()))"
      ],
      "metadata": {
        "id": "vhoL8Z5F8KbM"
      },
      "execution_count": null,
      "outputs": []
    },
    {
      "cell_type": "code",
      "source": [
        "print(sorted_dataframe)"
      ],
      "metadata": {
        "colab": {
          "base_uri": "https://localhost:8080/"
        },
        "id": "vE2fUt2CBBCE",
        "outputId": "cc5ee059-7509-4f36-b495-6ead4c99cf7b"
      },
      "execution_count": null,
      "outputs": [
        {
          "output_type": "stream",
          "name": "stdout",
          "text": [
            "{'apple': 50, 'apricot': 37, 'avocado': 57, 'banana': 30, 'blackberry': 45, 'blueberry': 31, 'cherry': 59, 'cocoa': 55, 'coconut': 22, 'cranberry': 13, 'dates': 34, 'grapefruit': 10, 'grapes': 25, 'guava': 35, 'jackfruit': 23, 'kiwi': 40, 'lemon': 60, 'lime': 60, 'mandarin': 48, 'mango': 20, 'muskmelon': 36, 'orange': 40, 'papaya': 14, 'peach': 25, 'pear': 42, 'pineapple': 15, 'pomegranate': 30, 'pomelo': 29, 'sapodilla': 53, 'strawberry': 56, 'sugarcane': 46, 'tamarind': 26, 'tangerine': 61, 'watermelon': 5}\n"
          ]
        }
      ]
    }
  ]
}