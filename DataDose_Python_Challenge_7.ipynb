{
  "nbformat": 4,
  "nbformat_minor": 0,
  "metadata": {
    "colab": {
      "provenance": [],
      "authorship_tag": "ABX9TyPUPfN8cumsZoOAfNdHKe+V",
      "include_colab_link": true
    },
    "kernelspec": {
      "name": "python3",
      "display_name": "Python 3"
    },
    "language_info": {
      "name": "python"
    }
  },
  "cells": [
    {
      "cell_type": "markdown",
      "metadata": {
        "id": "view-in-github",
        "colab_type": "text"
      },
      "source": [
        "<a href=\"https://colab.research.google.com/github/mariettesoninhekpon/DataDose-Challenge/blob/main/DataDose_Python_Challenge_7.ipynb\" target=\"_parent\"><img src=\"https://colab.research.google.com/assets/colab-badge.svg\" alt=\"Open In Colab\"/></a>"
      ]
    },
    {
      "cell_type": "markdown",
      "source": [
        "1- Calculate Area"
      ],
      "metadata": {
        "id": "0EV6UZLMe3_B"
      }
    },
    {
      "cell_type": "code",
      "execution_count": null,
      "metadata": {
        "id": "rJ3Mros-oRY7"
      },
      "outputs": [],
      "source": [
        "#calculate_area (of rectangle), with length and width as parameters\n",
        "def calculate_area (length, width):\n",
        "    area = length * width\n",
        "    return area"
      ]
    },
    {
      "cell_type": "markdown",
      "source": [
        "2- Calculate Volume"
      ],
      "metadata": {
        "id": "yCa8RpJUfH1q"
      }
    },
    {
      "cell_type": "code",
      "source": [
        "#calculate_volume,(of a rectangular prism) with length, width and height as parameters\n",
        "def calculate_volume (length, width, height):\n",
        "  volume = length * width * height\n",
        "  return volume"
      ],
      "metadata": {
        "id": "FzNl54exfWvt"
      },
      "execution_count": null,
      "outputs": []
    },
    {
      "cell_type": "markdown",
      "source": [
        "3- Convert Celsius to Fahrenheit"
      ],
      "metadata": {
        "id": "gaQZnxaVfX2d"
      }
    },
    {
      "cell_type": "code",
      "source": [
        "#celsius_to_fahrenheit\n",
        "def celsius_to_fahrenheit(celsius):\n",
        "  fahrenheit = celsius*9/5 + 32\n",
        "  return fahrenheit\n"
      ],
      "metadata": {
        "id": "K0-Z9tw3f7E_"
      },
      "execution_count": null,
      "outputs": []
    }
  ]
}