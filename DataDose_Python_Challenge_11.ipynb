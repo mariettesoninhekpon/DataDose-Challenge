{
  "nbformat": 4,
  "nbformat_minor": 0,
  "metadata": {
    "colab": {
      "provenance": [],
      "authorship_tag": "ABX9TyMvHFlr4bLv9pfx45m3aSmZ",
      "include_colab_link": true
    },
    "kernelspec": {
      "name": "python3",
      "display_name": "Python 3"
    },
    "language_info": {
      "name": "python"
    }
  },
  "cells": [
    {
      "cell_type": "markdown",
      "metadata": {
        "id": "view-in-github",
        "colab_type": "text"
      },
      "source": [
        "<a href=\"https://colab.research.google.com/github/mariettesoninhekpon/DataDose-Challenge/blob/main/DataDose_Python_Challenge_11.ipynb\" target=\"_parent\"><img src=\"https://colab.research.google.com/assets/colab-badge.svg\" alt=\"Open In Colab\"/></a>"
      ]
    },
    {
      "cell_type": "markdown",
      "source": [
        "Task 1: Create a list called cubed_list that includes the cube of each odd number and the square of each even number from the original list."
      ],
      "metadata": {
        "id": "zgHRqaSergjH"
      }
    },
    {
      "cell_type": "code",
      "source": [
        "number=[1, 2, 3, 4, 5, 6, 7, 8, 9, 10]\n",
        "squared_list = [x**2 for x in number]\n",
        "print(squared_list)"
      ],
      "metadata": {
        "colab": {
          "base_uri": "https://localhost:8080/"
        },
        "id": "GXQAwW4JrvJN",
        "outputId": "adbd3fc8-5407-4325-c49b-cbf6fd6df2e6"
      },
      "execution_count": null,
      "outputs": [
        {
          "output_type": "stream",
          "name": "stdout",
          "text": [
            "[1, 4, 9, 16, 25, 36, 49, 64, 81, 100]\n"
          ]
        }
      ]
    },
    {
      "cell_type": "markdown",
      "source": [
        "Task 2: Create a list called cubed_list that includes the cube of each odd number and the square of each even number from the original list."
      ],
      "metadata": {
        "id": "mVCs1RSrsPZz"
      }
    },
    {
      "cell_type": "code",
      "source": [
        "number=[1, 2, 3, 4, 5, 6, 7, 8, 9, 10]\n",
        "cubed_list = [(x**3) if x % 2 == 1 else (x**2) for x in number]\n",
        "\n",
        "print(cubed_list)"
      ],
      "metadata": {
        "colab": {
          "base_uri": "https://localhost:8080/"
        },
        "id": "LWl24IOzsVQ6",
        "outputId": "cde33cff-7473-4317-a752-0c01e14ed4f1"
      },
      "execution_count": null,
      "outputs": [
        {
          "output_type": "stream",
          "name": "stdout",
          "text": [
            "[1, 4, 27, 16, 125, 36, 343, 64, 729, 100]\n"
          ]
        }
      ]
    }
  ]
}