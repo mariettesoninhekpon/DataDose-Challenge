{
  "nbformat": 4,
  "nbformat_minor": 0,
  "metadata": {
    "colab": {
      "provenance": [],
      "authorship_tag": "ABX9TyPnOJTIPTEazWiGYxQ0LN0J",
      "include_colab_link": true
    },
    "kernelspec": {
      "name": "python3",
      "display_name": "Python 3"
    },
    "language_info": {
      "name": "python"
    }
  },
  "cells": [
    {
      "cell_type": "markdown",
      "metadata": {
        "id": "view-in-github",
        "colab_type": "text"
      },
      "source": [
        "<a href=\"https://colab.research.google.com/github/mariettesoninhekpon/DataDose-Challenge/blob/main/DataDose_Python_Challenge_10.ipynb\" target=\"_parent\"><img src=\"https://colab.research.google.com/assets/colab-badge.svg\" alt=\"Open In Colab\"/></a>"
      ]
    },
    {
      "cell_type": "markdown",
      "source": [
        "1- Create a list of names of 5 people you know. Then, using Python code, print the second name on the list."
      ],
      "metadata": {
        "id": "2aaw3pcej92y"
      }
    },
    {
      "cell_type": "code",
      "execution_count": null,
      "metadata": {
        "id": "Ce7NsrCUXbjz",
        "colab": {
          "base_uri": "https://localhost:8080/"
        },
        "outputId": "72d8368e-7b33-48c8-d2a6-07fd1dd6ff91"
      },
      "outputs": [
        {
          "output_type": "stream",
          "name": "stdout",
          "text": [
            "Tanja\n"
          ]
        }
      ],
      "source": [
        "names = [\"Bella\", \"Tanja\", \"Farhana\", \"Gideon\", \"Heba\"]\n",
        "\n",
        "print(names[1])"
      ]
    },
    {
      "cell_type": "markdown",
      "source": [
        "2- Create an empty list called numbers in Python."
      ],
      "metadata": {
        "id": "Kz2ONtp0kI2k"
      }
    },
    {
      "cell_type": "code",
      "source": [
        "numbers=[]\n",
        "\n",
        "numbers.append(5)\n",
        "numbers.append(8)\n",
        "numbers.append(12)\n",
        "\n",
        "print(numbers)"
      ],
      "metadata": {
        "colab": {
          "base_uri": "https://localhost:8080/"
        },
        "id": "_q-8d5MfkNy6",
        "outputId": "042e399a-b350-4bd4-f9ba-b7ed5aefd30d"
      },
      "execution_count": null,
      "outputs": [
        {
          "output_type": "stream",
          "name": "stdout",
          "text": [
            "[5, 8, 12]\n"
          ]
        }
      ]
    },
    {
      "cell_type": "markdown",
      "source": [
        "3- Print the first and last elements of the numbers list.\n",
        "\n"
      ],
      "metadata": {
        "id": "1FI8HH8UkRNI"
      }
    },
    {
      "cell_type": "code",
      "source": [
        "print(numbers[0])\n",
        "print(numbers[2])"
      ],
      "metadata": {
        "colab": {
          "base_uri": "https://localhost:8080/"
        },
        "id": "BtslOqiEka1h",
        "outputId": "465a8531-6952-4476-aa85-406603076485"
      },
      "execution_count": null,
      "outputs": [
        {
          "output_type": "stream",
          "name": "stdout",
          "text": [
            "5\n",
            "12\n"
          ]
        }
      ]
    },
    {
      "cell_type": "markdown",
      "source": [
        "4- Create a new list called numbers2 containing the numbers from 1 to 10 (inclusive) using a for loop."
      ],
      "metadata": {
        "id": "q1PJzhnikdtt"
      }
    },
    {
      "cell_type": "code",
      "source": [
        "numbers2 = []\n",
        "for number in range (1, 11):\n",
        "  numbers2.append(number)\n",
        "  print (numbers2)"
      ],
      "metadata": {
        "colab": {
          "base_uri": "https://localhost:8080/"
        },
        "id": "S6bdnTQjkhmw",
        "outputId": "2c3dfd76-d30e-44d3-9a4a-f2e9cb860ced"
      },
      "execution_count": null,
      "outputs": [
        {
          "output_type": "stream",
          "name": "stdout",
          "text": [
            "[1]\n",
            "[1, 2]\n",
            "[1, 2, 3]\n",
            "[1, 2, 3, 4]\n",
            "[1, 2, 3, 4, 5]\n",
            "[1, 2, 3, 4, 5, 6]\n",
            "[1, 2, 3, 4, 5, 6, 7]\n",
            "[1, 2, 3, 4, 5, 6, 7, 8]\n",
            "[1, 2, 3, 4, 5, 6, 7, 8, 9]\n",
            "[1, 2, 3, 4, 5, 6, 7, 8, 9, 10]\n"
          ]
        }
      ]
    },
    {
      "cell_type": "markdown",
      "source": [
        "5- Print the length of numbers2 list"
      ],
      "metadata": {
        "id": "4Mh_6ZeeksSc"
      }
    },
    {
      "cell_type": "code",
      "source": [
        "print(len(numbers2))"
      ],
      "metadata": {
        "colab": {
          "base_uri": "https://localhost:8080/"
        },
        "id": "PdtE0l0wkrk7",
        "outputId": "1acfc873-b0d2-4128-b037-d058e0518e53"
      },
      "execution_count": null,
      "outputs": [
        {
          "output_type": "stream",
          "name": "stdout",
          "text": [
            "10\n"
          ]
        }
      ]
    },
    {
      "cell_type": "markdown",
      "source": [
        "6- Append the numbers 11, 12, and 13 to the numbers2 list.\n"
      ],
      "metadata": {
        "id": "WHvWInhqk7Zv"
      }
    },
    {
      "cell_type": "code",
      "source": [
        "for i in range (11, 14):\n",
        "  numbers2.append(i)\n"
      ],
      "metadata": {
        "id": "z_1p8KaXk8tt"
      },
      "execution_count": null,
      "outputs": []
    },
    {
      "cell_type": "markdown",
      "source": [
        "7- Print the sorted version of numbers2"
      ],
      "metadata": {
        "id": "E8JobDI-Ftr4"
      }
    },
    {
      "cell_type": "code",
      "source": [
        "print(numbers2)"
      ],
      "metadata": {
        "colab": {
          "base_uri": "https://localhost:8080/"
        },
        "id": "n80RTInlFuQv",
        "outputId": "dd9ad54f-05a6-4e12-eb4f-a5d4f7520225"
      },
      "execution_count": null,
      "outputs": [
        {
          "output_type": "stream",
          "name": "stdout",
          "text": [
            "[1, 2, 3, 4, 5, 6, 7, 8, 9, 10, 11, 12, 13]\n"
          ]
        }
      ]
    },
    {
      "cell_type": "markdown",
      "source": [
        "8- Use the index method to find the index of the number 6 in numbers2"
      ],
      "metadata": {
        "id": "b_f4-Rcrl8ch"
      }
    },
    {
      "cell_type": "code",
      "source": [
        "print(numbers2.index(6))"
      ],
      "metadata": {
        "colab": {
          "base_uri": "https://localhost:8080/"
        },
        "id": "NmS58ihGmMZg",
        "outputId": "27569456-e6f2-490b-8637-cdf2603d8a68"
      },
      "execution_count": null,
      "outputs": [
        {
          "output_type": "stream",
          "name": "stdout",
          "text": [
            "5\n"
          ]
        }
      ]
    },
    {
      "cell_type": "markdown",
      "source": [
        "9- Remove the number 3 from numbers2"
      ],
      "metadata": {
        "id": "sYTi6L9yotSy"
      }
    },
    {
      "cell_type": "code",
      "source": [
        "numbers2.remove(3)"
      ],
      "metadata": {
        "id": "h5MbspxexwE8"
      },
      "execution_count": null,
      "outputs": []
    },
    {
      "cell_type": "code",
      "source": [
        "print(numbers2)"
      ],
      "metadata": {
        "colab": {
          "base_uri": "https://localhost:8080/"
        },
        "id": "IcSBODUtphku",
        "outputId": "8816b9f7-a07c-4dd9-b088-a7dbe91e84bb"
      },
      "execution_count": null,
      "outputs": [
        {
          "output_type": "stream",
          "name": "stdout",
          "text": [
            "[1, 2, 4, 5, 6, 7, 8, 9, 10, 11, 12, 13]\n"
          ]
        }
      ]
    },
    {
      "cell_type": "markdown",
      "source": [
        "10- Print the sum of all the numbers in numbers2"
      ],
      "metadata": {
        "id": "Jg1rVvrypvQI"
      }
    },
    {
      "cell_type": "code",
      "source": [
        "sum (numbers2)"
      ],
      "metadata": {
        "colab": {
          "base_uri": "https://localhost:8080/"
        },
        "id": "v5X0U7aQHez1",
        "outputId": "ce6a6840-604b-43b8-81a3-09f71ea63b60"
      },
      "execution_count": null,
      "outputs": [
        {
          "output_type": "execute_result",
          "data": {
            "text/plain": [
              "88"
            ]
          },
          "metadata": {},
          "execution_count": 12
        }
      ]
    }
  ]
}